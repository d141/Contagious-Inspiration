{
  "nbformat": 4,
  "nbformat_minor": 0,
  "metadata": {
    "colab": {
      "name": "Train Inspiration.ipynb",
      "provenance": []
    },
    "kernelspec": {
      "name": "python3",
      "display_name": "Python 3"
    },
    "language_info": {
      "name": "python"
    }
  },
  "cells": [
    {
      "cell_type": "code",
      "metadata": {
        "id": "ibtXRP8LHddd"
      },
      "source": [
        "import pandas as pd\n",
        "\n",
        "ids = pd.read_csv('data_all_post_ids.csv')"
      ],
      "execution_count": 2,
      "outputs": []
    },
    {
      "cell_type": "code",
      "metadata": {
        "colab": {
          "base_uri": "https://localhost:8080/",
          "height": 206
        },
        "id": "Dn-NQah0IPB9",
        "outputId": "0b602b92-d794-44f3-c3c7-1604347eaa16"
      },
      "source": [
        "ids.head()"
      ],
      "execution_count": 3,
      "outputs": [
        {
          "output_type": "execute_result",
          "data": {
            "text/html": [
              "<div>\n",
              "<style scoped>\n",
              "    .dataframe tbody tr th:only-of-type {\n",
              "        vertical-align: middle;\n",
              "    }\n",
              "\n",
              "    .dataframe tbody tr th {\n",
              "        vertical-align: top;\n",
              "    }\n",
              "\n",
              "    .dataframe thead th {\n",
              "        text-align: right;\n",
              "    }\n",
              "</style>\n",
              "<table border=\"1\" class=\"dataframe\">\n",
              "  <thead>\n",
              "    <tr style=\"text-align: right;\">\n",
              "      <th></th>\n",
              "      <th>inspiring</th>\n",
              "      <th>not inspiring</th>\n",
              "    </tr>\n",
              "  </thead>\n",
              "  <tbody>\n",
              "    <tr>\n",
              "      <th>0</th>\n",
              "      <td>18ypya</td>\n",
              "      <td>5s6czm</td>\n",
              "    </tr>\n",
              "    <tr>\n",
              "      <th>1</th>\n",
              "      <td>8u3p2f</td>\n",
              "      <td>2q1xjz</td>\n",
              "    </tr>\n",
              "    <tr>\n",
              "      <th>2</th>\n",
              "      <td>194wmf</td>\n",
              "      <td>16ff5p</td>\n",
              "    </tr>\n",
              "    <tr>\n",
              "      <th>3</th>\n",
              "      <td>1h8ctp</td>\n",
              "      <td>18fto4</td>\n",
              "    </tr>\n",
              "    <tr>\n",
              "      <th>4</th>\n",
              "      <td>17pkxd</td>\n",
              "      <td>671m2n</td>\n",
              "    </tr>\n",
              "  </tbody>\n",
              "</table>\n",
              "</div>"
            ],
            "text/plain": [
              "  inspiring not inspiring\n",
              "0    18ypya        5s6czm\n",
              "1    8u3p2f        2q1xjz\n",
              "2    194wmf        16ff5p\n",
              "3    1h8ctp        18fto4\n",
              "4    17pkxd        671m2n"
            ]
          },
          "metadata": {},
          "execution_count": 3
        }
      ]
    },
    {
      "cell_type": "code",
      "metadata": {
        "id": "OzrtdqtoJKZu"
      },
      "source": [
        "inspiring=ids['inspiring']\n",
        "not_inspiring=ids['not inspiring']"
      ],
      "execution_count": 4,
      "outputs": []
    },
    {
      "cell_type": "code",
      "metadata": {
        "id": "KlqvodjOJ28Y"
      },
      "source": [
        "inspiring = pd.DataFrame(inspiring).assign(result = 1)\n",
        "not_inspiring = pd.DataFrame(not_inspiring).assign(result = 0)"
      ],
      "execution_count": 5,
      "outputs": []
    },
    {
      "cell_type": "code",
      "metadata": {
        "id": "H4YXdXrBJ3sr"
      },
      "source": [
        "inspiring = inspiring.rename(columns = {'inspiring':'id'})\n",
        "not_inspiring = not_inspiring.rename(columns = {'not inspiring':'id'})"
      ],
      "execution_count": 6,
      "outputs": []
    },
    {
      "cell_type": "code",
      "metadata": {
        "id": "R0bs9pEZKR4v"
      },
      "source": [
        "df = inspiring.append(not_inspiring)"
      ],
      "execution_count": 7,
      "outputs": []
    },
    {
      "cell_type": "code",
      "metadata": {
        "colab": {
          "base_uri": "https://localhost:8080/"
        },
        "id": "wVgkmD2yKvZf",
        "outputId": "f799ce6d-5cb3-4352-bbff-01d5df9f06f7"
      },
      "source": [
        "len(df)"
      ],
      "execution_count": 8,
      "outputs": [
        {
          "output_type": "execute_result",
          "data": {
            "text/plain": [
              "11590"
            ]
          },
          "metadata": {},
          "execution_count": 8
        }
      ]
    },
    {
      "cell_type": "code",
      "metadata": {
        "colab": {
          "base_uri": "https://localhost:8080/",
          "height": 206
        },
        "id": "l1Ot6eYAOK2X",
        "outputId": "c32e9cf4-e5a8-4af2-8e0f-00d6f68e55fe"
      },
      "source": [
        "df.head()"
      ],
      "execution_count": 9,
      "outputs": [
        {
          "output_type": "execute_result",
          "data": {
            "text/html": [
              "<div>\n",
              "<style scoped>\n",
              "    .dataframe tbody tr th:only-of-type {\n",
              "        vertical-align: middle;\n",
              "    }\n",
              "\n",
              "    .dataframe tbody tr th {\n",
              "        vertical-align: top;\n",
              "    }\n",
              "\n",
              "    .dataframe thead th {\n",
              "        text-align: right;\n",
              "    }\n",
              "</style>\n",
              "<table border=\"1\" class=\"dataframe\">\n",
              "  <thead>\n",
              "    <tr style=\"text-align: right;\">\n",
              "      <th></th>\n",
              "      <th>id</th>\n",
              "      <th>result</th>\n",
              "    </tr>\n",
              "  </thead>\n",
              "  <tbody>\n",
              "    <tr>\n",
              "      <th>0</th>\n",
              "      <td>18ypya</td>\n",
              "      <td>1</td>\n",
              "    </tr>\n",
              "    <tr>\n",
              "      <th>1</th>\n",
              "      <td>8u3p2f</td>\n",
              "      <td>1</td>\n",
              "    </tr>\n",
              "    <tr>\n",
              "      <th>2</th>\n",
              "      <td>194wmf</td>\n",
              "      <td>1</td>\n",
              "    </tr>\n",
              "    <tr>\n",
              "      <th>3</th>\n",
              "      <td>1h8ctp</td>\n",
              "      <td>1</td>\n",
              "    </tr>\n",
              "    <tr>\n",
              "      <th>4</th>\n",
              "      <td>17pkxd</td>\n",
              "      <td>1</td>\n",
              "    </tr>\n",
              "  </tbody>\n",
              "</table>\n",
              "</div>"
            ],
            "text/plain": [
              "       id  result\n",
              "0  18ypya       1\n",
              "1  8u3p2f       1\n",
              "2  194wmf       1\n",
              "3  1h8ctp       1\n",
              "4  17pkxd       1"
            ]
          },
          "metadata": {},
          "execution_count": 9
        }
      ]
    },
    {
      "cell_type": "code",
      "metadata": {
        "colab": {
          "base_uri": "https://localhost:8080/"
        },
        "id": "n4sDE2YCMKjm",
        "outputId": "c008bc0c-96ed-4111-afbe-95bff64aefb6"
      },
      "source": [
        "pip install praw"
      ],
      "execution_count": 10,
      "outputs": [
        {
          "output_type": "stream",
          "name": "stdout",
          "text": [
            "Collecting praw\n",
            "  Downloading praw-7.4.0-py3-none-any.whl (167 kB)\n",
            "\u001b[?25l\r\u001b[K     |██                              | 10 kB 30.5 MB/s eta 0:00:01\r\u001b[K     |████                            | 20 kB 38.9 MB/s eta 0:00:01\r\u001b[K     |█████▉                          | 30 kB 45.7 MB/s eta 0:00:01\r\u001b[K     |███████▉                        | 40 kB 29.6 MB/s eta 0:00:01\r\u001b[K     |█████████▉                      | 51 kB 15.1 MB/s eta 0:00:01\r\u001b[K     |███████████▊                    | 61 kB 17.4 MB/s eta 0:00:01\r\u001b[K     |█████████████▊                  | 71 kB 12.5 MB/s eta 0:00:01\r\u001b[K     |███████████████▋                | 81 kB 13.7 MB/s eta 0:00:01\r\u001b[K     |█████████████████▋              | 92 kB 13.0 MB/s eta 0:00:01\r\u001b[K     |███████████████████▋            | 102 kB 13.5 MB/s eta 0:00:01\r\u001b[K     |█████████████████████▌          | 112 kB 13.5 MB/s eta 0:00:01\r\u001b[K     |███████████████████████▌        | 122 kB 13.5 MB/s eta 0:00:01\r\u001b[K     |█████████████████████████▌      | 133 kB 13.5 MB/s eta 0:00:01\r\u001b[K     |███████████████████████████▍    | 143 kB 13.5 MB/s eta 0:00:01\r\u001b[K     |█████████████████████████████▍  | 153 kB 13.5 MB/s eta 0:00:01\r\u001b[K     |███████████████████████████████▎| 163 kB 13.5 MB/s eta 0:00:01\r\u001b[K     |████████████████████████████████| 167 kB 13.5 MB/s \n",
            "\u001b[?25hCollecting update-checker>=0.18\n",
            "  Downloading update_checker-0.18.0-py3-none-any.whl (7.0 kB)\n",
            "Collecting websocket-client>=0.54.0\n",
            "  Downloading websocket_client-1.2.1-py2.py3-none-any.whl (52 kB)\n",
            "\u001b[K     |████████████████████████████████| 52 kB 1.2 MB/s \n",
            "\u001b[?25hCollecting prawcore<3,>=2.1\n",
            "  Downloading prawcore-2.3.0-py3-none-any.whl (16 kB)\n",
            "Requirement already satisfied: requests<3.0,>=2.6.0 in /usr/local/lib/python3.7/dist-packages (from prawcore<3,>=2.1->praw) (2.23.0)\n",
            "Requirement already satisfied: chardet<4,>=3.0.2 in /usr/local/lib/python3.7/dist-packages (from requests<3.0,>=2.6.0->prawcore<3,>=2.1->praw) (3.0.4)\n",
            "Requirement already satisfied: urllib3!=1.25.0,!=1.25.1,<1.26,>=1.21.1 in /usr/local/lib/python3.7/dist-packages (from requests<3.0,>=2.6.0->prawcore<3,>=2.1->praw) (1.24.3)\n",
            "Requirement already satisfied: idna<3,>=2.5 in /usr/local/lib/python3.7/dist-packages (from requests<3.0,>=2.6.0->prawcore<3,>=2.1->praw) (2.10)\n",
            "Requirement already satisfied: certifi>=2017.4.17 in /usr/local/lib/python3.7/dist-packages (from requests<3.0,>=2.6.0->prawcore<3,>=2.1->praw) (2021.5.30)\n",
            "Installing collected packages: websocket-client, update-checker, prawcore, praw\n",
            "Successfully installed praw-7.4.0 prawcore-2.3.0 update-checker-0.18.0 websocket-client-1.2.1\n"
          ]
        }
      ]
    },
    {
      "cell_type": "code",
      "metadata": {
        "colab": {
          "base_uri": "https://localhost:8080/"
        },
        "id": "Bp8CEQzGNGQL",
        "outputId": "6a23ec4f-6261-4a82-dc3b-51d30a3b6714"
      },
      "source": [
        "import praw\n",
        "\n",
        "reddit = praw.Reddit(client_id='F77JkePeSXMBgL_u3m9CBQ',\n",
        "                     client_secret='DgQrUlyRndRlDYapNRD6GcOr_D_Vsg',\n",
        "                     user_agent='smm_project_21',\n",
        "                     check_for_async=False)\n",
        "\n",
        "submissions = reddit.subreddit('opensource').hot(limit=5)\n",
        "[str(x) for x in submissions]"
      ],
      "execution_count": 11,
      "outputs": [
        {
          "output_type": "execute_result",
          "data": {
            "text/plain": [
              "['qcu5a2', 'qd3bjk', 'qd2jh9', 'qcl891', 'qd0vcc']"
            ]
          },
          "metadata": {},
          "execution_count": 11
        }
      ]
    },
    {
      "cell_type": "code",
      "metadata": {
        "id": "jlj9grIVLm7N"
      },
      "source": [
        "submission = reddit.submission(id='qcu5a2')"
      ],
      "execution_count": 32,
      "outputs": []
    },
    {
      "cell_type": "code",
      "metadata": {
        "id": "l_4zYZdaKYzz",
        "outputId": "848e5563-b0c0-4491-9f6a-d1ce4a94cf11",
        "colab": {
          "base_uri": "https://localhost:8080/"
        }
      },
      "source": [
        "len(submission.comments.list())"
      ],
      "execution_count": 33,
      "outputs": [
        {
          "output_type": "execute_result",
          "data": {
            "text/plain": [
              "61"
            ]
          },
          "metadata": {},
          "execution_count": 33
        }
      ]
    },
    {
      "cell_type": "code",
      "metadata": {
        "id": "zvxS-yIuOI_c"
      },
      "source": [
        "test_list = []"
      ],
      "execution_count": 42,
      "outputs": []
    },
    {
      "cell_type": "code",
      "metadata": {
        "id": "bo3DDM75N4Oo"
      },
      "source": [
        "for c in submission.comments.list():\n",
        "  if \"t3_\" in c.parent_id:\n",
        "    test_list.append(c.body)"
      ],
      "execution_count": 43,
      "outputs": []
    },
    {
      "cell_type": "code",
      "metadata": {
        "colab": {
          "base_uri": "https://localhost:8080/"
        },
        "id": "fpReEwRTSnKn",
        "outputId": "4839a773-dbac-4b8f-d97a-b56d9ccb5de6"
      },
      "source": [
        "pip install empath"
      ],
      "execution_count": 44,
      "outputs": [
        {
          "output_type": "stream",
          "name": "stdout",
          "text": [
            "Collecting empath\n",
            "  Downloading empath-0.89.tar.gz (57 kB)\n",
            "\u001b[K     |████████████████████████████████| 57 kB 4.0 MB/s \n",
            "\u001b[?25hRequirement already satisfied: requests in /usr/local/lib/python3.7/dist-packages (from empath) (2.23.0)\n",
            "Requirement already satisfied: urllib3!=1.25.0,!=1.25.1,<1.26,>=1.21.1 in /usr/local/lib/python3.7/dist-packages (from requests->empath) (1.24.3)\n",
            "Requirement already satisfied: chardet<4,>=3.0.2 in /usr/local/lib/python3.7/dist-packages (from requests->empath) (3.0.4)\n",
            "Requirement already satisfied: certifi>=2017.4.17 in /usr/local/lib/python3.7/dist-packages (from requests->empath) (2021.5.30)\n",
            "Requirement already satisfied: idna<3,>=2.5 in /usr/local/lib/python3.7/dist-packages (from requests->empath) (2.10)\n",
            "Building wheels for collected packages: empath\n",
            "  Building wheel for empath (setup.py) ... \u001b[?25l\u001b[?25hdone\n",
            "  Created wheel for empath: filename=empath-0.89-py3-none-any.whl size=57821 sha256=4f3ea3eac34fa845bcdbe6420c2c1c7cec213e5da3f05f82a0184d5654044f52\n",
            "  Stored in directory: /root/.cache/pip/wheels/2b/78/a8/37d4505eeae79807f4b5565a193f7cfcee892137ad37591029\n",
            "Successfully built empath\n",
            "Installing collected packages: empath\n",
            "Successfully installed empath-0.89\n"
          ]
        }
      ]
    },
    {
      "cell_type": "code",
      "metadata": {
        "id": "W14q0TBGOqr2"
      },
      "source": [
        "from empath import Empath\n",
        "lexicon = Empath()"
      ],
      "execution_count": 45,
      "outputs": []
    },
    {
      "cell_type": "code",
      "metadata": {
        "id": "I0y1q9eVPyL8"
      },
      "source": [
        "categories = ['affection', 'aggression', 'anger', 'cheerfulness', 'confusion',\n",
        "              'contentment', 'disappointment', 'disgust', 'emotional', 'envy',\n",
        "              'fear', 'hate', 'irratability', 'love', 'negative_emotion', 'optimism',\n",
        "              'positive emotion', 'rage', 'ridicule', 'sadness', 'shame', 'sympathy']\n",
        "basic_categories = ['negative_emotion', 'positive_emotion']"
      ],
      "execution_count": 49,
      "outputs": []
    },
    {
      "cell_type": "code",
      "metadata": {
        "id": "9iBdYH-LOvEK",
        "outputId": "6aaef75f-f977-4f2a-a53c-d2dcf830390e",
        "colab": {
          "base_uri": "https://localhost:8080/"
        }
      },
      "source": [
        "lexicon.analyze(test_list[0], categories=basic_categories, normalize=True)"
      ],
      "execution_count": 50,
      "outputs": [
        {
          "output_type": "execute_result",
          "data": {
            "text/plain": [
              "{'negative_emotion': 0.0, 'positive_emotion': 0.0}"
            ]
          },
          "metadata": {},
          "execution_count": 50
        }
      ]
    },
    {
      "cell_type": "code",
      "metadata": {
        "id": "J_k8GqmyOzct",
        "outputId": "23fac3a5-9f13-4274-9ba1-b5c658e1835f",
        "colab": {
          "base_uri": "https://localhost:8080/"
        }
      },
      "source": [
        "for comment in test_list:\n",
        "  print(lexicon.analyze(comment, categories=basic_categories, normalize=True))"
      ],
      "execution_count": 52,
      "outputs": [
        {
          "output_type": "stream",
          "name": "stdout",
          "text": [
            "{'negative_emotion': 0.0, 'positive_emotion': 0.0}\n",
            "{'negative_emotion': 0.01904761904761905, 'positive_emotion': 0.0}\n",
            "{'negative_emotion': 0.0, 'positive_emotion': 0.0}\n",
            "{'negative_emotion': 0.0, 'positive_emotion': 0.0}\n",
            "{'negative_emotion': 0.0, 'positive_emotion': 0.0}\n",
            "{'negative_emotion': 0.0, 'positive_emotion': 0.0}\n",
            "{'negative_emotion': 0.0, 'positive_emotion': 0.13333333333333333}\n",
            "{'negative_emotion': 0.0, 'positive_emotion': 0.017341040462427744}\n",
            "{'negative_emotion': 0.0, 'positive_emotion': 0.0}\n"
          ]
        }
      ]
    },
    {
      "cell_type": "code",
      "metadata": {
        "id": "FlEMtqGiRL8J"
      },
      "source": [
        ""
      ],
      "execution_count": null,
      "outputs": []
    }
  ]
}